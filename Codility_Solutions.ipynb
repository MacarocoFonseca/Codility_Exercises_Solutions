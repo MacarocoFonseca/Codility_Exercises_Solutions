{
 "cells": [
  {
   "cell_type": "markdown",
   "id": "quantitative-theme",
   "metadata": {},
   "source": [
    "# <b> Binary Gap\n",
    "- maximal sequence of consecutive zeros\n",
    "- 1001 has 2 zeros gap\n",
    "- 1111, 100000 and 0001( but this case will be solved) have NO GAP!\n",
    "\n",
    "#####  Solution Algo.\n",
    "- 10001001000001\n",
    "- Read the sequence\n",
    "- Increment a counter var. for each zero digit\n",
    "- Reset my count every time I reach a \"1\" digit\n",
    "- Compare zero counter with the current max val."
   ]
  },
  {
   "cell_type": "code",
   "execution_count": 12,
   "id": "bridal-recommendation",
   "metadata": {},
   "outputs": [
    {
     "name": "stdout",
     "output_type": "stream",
     "text": [
      "100111000100000\n",
      "maxb =  0\n",
      "b =  1\n",
      "b =  2\n",
      "maxb =  2\n",
      "maxb =  2\n",
      "maxb =  2\n",
      "b =  1\n",
      "b =  2\n",
      "b =  3\n",
      "maxb =  3\n",
      "b =  1\n",
      "b =  2\n",
      "b =  3\n",
      "b =  4\n",
      "b =  5\n"
     ]
    },
    {
     "data": {
      "text/plain": [
       "3"
      ]
     },
     "execution_count": 12,
     "metadata": {},
     "output_type": "execute_result"
    }
   ],
   "source": [
    "def binaryGapSolution(N):\n",
    "    N = bin(N)[2:]\n",
    "    print(N)\n",
    "    b = 0 \n",
    "    maxb = 0\n",
    "    for k in N:\n",
    "        if int(k)==0:\n",
    "            b+=1\n",
    "            print(\"b = \", b)\n",
    "        elif int(k)==1:\n",
    "            maxb = max(b,maxb)\n",
    "            b = 0\n",
    "            print(\"maxb = \", maxb)\n",
    "    return maxb\n",
    "binaryGapSolution(20000)    \n"
   ]
  },
  {
   "cell_type": "markdown",
   "id": "seeing-treasure",
   "metadata": {},
   "source": [
    "# <b> Cyclic Rotation\n",
    "- K = 3\n",
    "- A = [3,8,9,7,6] -> [7,6,3,8,9]\n",
    "- How to tackle? \n",
    "    - nr \"6\" is in 4th position and moves to the 2nd pos. with mean it moves (4+k)%sizeA = 2"
   ]
  },
  {
   "cell_type": "code",
   "execution_count": 24,
   "id": "buried-recorder",
   "metadata": {},
   "outputs": [
    {
     "name": "stdout",
     "output_type": "stream",
     "text": [
      "[3, 8, 9, 7, 6]\n",
      "3\n",
      "[None, None, None, None, None]\n",
      "[None, None, None, 3, None]\n",
      "[None, None, None, 3, 8]\n",
      "[9, None, None, 3, 8]\n",
      "[9, 7, None, 3, 8]\n",
      "[9, 7, 6, 3, 8]\n"
     ]
    },
    {
     "data": {
      "text/plain": [
       "[9, 7, 6, 3, 8]"
      ]
     },
     "execution_count": 24,
     "metadata": {},
     "output_type": "execute_result"
    }
   ],
   "source": [
    "def cyclicRotationSolution(A,K):\n",
    "    print(A)\n",
    "    print(K)\n",
    "    vec2 = [None]*len(A)\n",
    "    print(vec2)\n",
    "    for i in range(0, len(A)):\n",
    "        vec2[(i+K)%len(A)] = A[i]\n",
    "        print(vec2)\n",
    "    return vec2\n",
    "cyclicRotationSolution([3,8,9,7,6],3)\n"
   ]
  },
  {
   "cell_type": "markdown",
   "id": "clean-packet",
   "metadata": {},
   "source": [
    "# <b> Odd Occurrence Array \n",
    "- [9,3,9,3,9,7,9]\n",
    "- find which element occurs only one time in the array\n",
    "- 7 is the only nr\n",
    "\n",
    "- Sol: sort, test quality between consecutive elements, increment index by 2"
   ]
  },
  {
   "cell_type": "code",
   "execution_count": 27,
   "id": "civil-tribune",
   "metadata": {},
   "outputs": [
    {
     "name": "stdout",
     "output_type": "stream",
     "text": [
      "[9, 3, 9, 3, 9, 7, 9]\n",
      "[3, 3, 7, 9, 9, 9, 9]\n"
     ]
    },
    {
     "data": {
      "text/plain": [
       "7"
      ]
     },
     "execution_count": 27,
     "metadata": {},
     "output_type": "execute_result"
    }
   ],
   "source": [
    "def oddOccurenceSolution(A):\n",
    "    print(A)\n",
    "    A.sort()\n",
    "    print(A)\n",
    "    for i in range(0, len(A), 2):\n",
    "        if A[i] != A[i+1]:\n",
    "            return A[i]\n",
    "    \n",
    "oddOccurenceSolution([9,3,9,3,9,7,9])\n"
   ]
  },
  {
   "cell_type": "markdown",
   "id": "tropical-binding",
   "metadata": {},
   "source": [
    "# <b> Frog Jump\n",
    "- it is given an array with a fixed dimention\n",
    "- It is provided the frog's initial position (X), the final position (Y) and the lenght of the jump (D)\n",
    "- Ex [ ] [ ] [ ] [ ] [ ] [ ] [ ] [ ] [ ] [ ] [ ] [ ] [ ] [ ] [ ]\n",
    "- X = 1, Y = 7, D = 2 ->  [] [X] [] [x+d] [] [2x+d] [] [Y = 3x+d] [] [] [] [] [] [] []\n"
   ]
  },
  {
   "cell_type": "code",
   "execution_count": 42,
   "id": "noticed-valuable",
   "metadata": {},
   "outputs": [
    {
     "name": "stdout",
     "output_type": "stream",
     "text": [
      "3\n"
     ]
    },
    {
     "data": {
      "text/plain": [
       "4"
      ]
     },
     "execution_count": 42,
     "metadata": {},
     "output_type": "execute_result"
    }
   ],
   "source": [
    "def frogJumpSolution(X,Y,D):\n",
    "    v = (Y - X) // D # floor division, get nr of jumps\n",
    "    print(v)\n",
    "    if X+v*D > Y:\n",
    "        return v\n",
    "    else: \n",
    "        return v+1\n",
    "frogJumpSolution(1,7,2)\n"
   ]
  },
  {
   "cell_type": "markdown",
   "id": "accompanied-reform",
   "metadata": {},
   "source": [
    "# <b> Perm. Missing Element\n",
    "- A = [2,3,1,5]\n",
    "- unique elements!\n",
    "- Largest element value is equal to N+1 and smallest is 1\n",
    "- 5 is the largest = 4+1 = N+1. 4 is missing\n",
    "- sol. sort A = [1,2,3,5], where index 0->A[0]=1, 1->A[1]=2 ...."
   ]
  },
  {
   "cell_type": "code",
   "execution_count": 47,
   "id": "other-michael",
   "metadata": {},
   "outputs": [
    {
     "name": "stdout",
     "output_type": "stream",
     "text": [
      "[1, 2, 3, 4, 5, 7]\n"
     ]
    },
    {
     "data": {
      "text/plain": [
       "6"
      ]
     },
     "execution_count": 47,
     "metadata": {},
     "output_type": "execute_result"
    }
   ],
   "source": [
    "def permMissingElementSolution(A):\n",
    "    if(len(A) == 0):\n",
    "        return 1\n",
    "    A.sort()\n",
    "    print(A)\n",
    "    for i in range(0,len(A)):\n",
    "        if A[i] != i+1:\n",
    "            return i+1\n",
    "    #return(len(A)+1)\n",
    "    \n",
    "    \n",
    "    \n",
    "permMissingElementSolution([2,3,1,5,4,7])"
   ]
  },
  {
   "cell_type": "markdown",
   "id": "received-hunger",
   "metadata": {},
   "source": [
    "# <b> TapeEquilibrium\n",
    "- We are givin an array, we have to count the arrays until a certain position. We have to calculate what is in the right from the seperator and what is in left\n",
    "- calculate the absulute diference to get the minimal value of this diference.\n",
    "- EX: A = [3,1,2,4,3], with sep = 1\n",
    "    - 3 | 1+2+4+3\n",
    "    - 3 | 10\n",
    "    - |3-10| = 7\n",
    "- with sep = 2\n",
    "    - 3+1 | 2+4+3\n",
    "    - 4 | 9\n",
    "    - |4-9| = 5\n",
    ".... guess where the seperator should be to get the smallest difference\n",
    "Solution: \n",
    "1) Sum of the array S\n",
    "2) Sum of first part of the array SL\n",
    "- SR = S - SL\n",
    "- |SL- SR| = |SL - S + SL| = |2SL - S|\n",
    "- If |SL- SR| < minDiff -> minDiff = |SL- SR|"
   ]
  },
  {
   "cell_type": "code",
   "execution_count": 50,
   "id": "painted-verification",
   "metadata": {},
   "outputs": [
    {
     "name": "stdout",
     "output_type": "stream",
     "text": [
      "[3, 1, 2, 4, 3]\n",
      "13\n",
      "SL: 3\n",
      "diff:  7\n",
      "Min Diff:  7\n",
      "---------------------\n",
      "SL: 4\n",
      "diff:  5\n",
      "Min Diff:  5\n",
      "---------------------\n",
      "SL: 6\n",
      "diff:  1\n",
      "Min Diff:  1\n",
      "---------------------\n",
      "SL: 10\n",
      "diff:  7\n",
      "Min Diff:  1\n",
      "---------------------\n",
      "SL: 13\n",
      "diff:  13\n",
      "Min Diff:  1\n",
      "---------------------\n"
     ]
    },
    {
     "data": {
      "text/plain": [
       "1"
      ]
     },
     "execution_count": 50,
     "metadata": {},
     "output_type": "execute_result"
    }
   ],
   "source": [
    "def tapeEquilibriumSolution(A):\n",
    "    print(A)\n",
    "    if len(A) < 2: #empty list or with 1 val\n",
    "        return 0\n",
    "    s = sum(A)\n",
    "    print(s)\n",
    "    \n",
    "    minDiff = 2000 \n",
    "    sL = 0\n",
    "    for i in range(0, len(A)):\n",
    "        sL += A[i]\n",
    "        print(\"SL:\", sL)\n",
    "        diff = abs(2*sL - s)\n",
    "        print(\"diff: \", diff)\n",
    "        minDiff = min(minDiff, diff)\n",
    "        print(\"Min Diff: \", minDiff)\n",
    "        print(\"---------------------\")\n",
    "    return minDiff\n",
    "\n",
    "tapeEquilibriumSolution([3,1,2,4,3])   "
   ]
  },
  {
   "cell_type": "markdown",
   "id": "voluntary-relationship",
   "metadata": {},
   "source": [
    "# <b> Frog River One\n",
    "- Frog wants to get from position 0 to positon X (the rock)\n",
    "- It is given an array where the index represents the seconds and the value of the array represents the position where it is going to fall\n",
    "- A[time] = position:\n",
    "    - A[0]=1, A[1]=1, A[2]=2, A[3]=5, A[4]=3, A[5]=4, A[6]=3\n",
    "- The goal is to find the earliest time when the frog can jump to the other side of the river\n",
    "- If there is no no leaves to fill all the positions, our function should retrieve -1.\n",
    "- Sol: We should switch the index for with the position inside the array:\n",
    "    - A[time] = pos. --> B[pos.] = time\n",
    "    - A = 1(time=0), 1(1), 2(2), 5(3), 3(4), 4(5) , 3(6)\n",
    "    - B = 0, 1, 2, 3, 4, 5, 3 (-1 element than A)"
   ]
  },
  {
   "cell_type": "code",
   "execution_count": 66,
   "id": "cleared-utility",
   "metadata": {},
   "outputs": [
    {
     "name": "stdout",
     "output_type": "stream",
     "text": [
      "[-1, -1, -1, -1, -1]\n",
      "B: [0, -1, -1, -1, -1]\n",
      "B: [0, 2, -1, -1, -1]\n",
      "B: [0, 2, -1, -1, 3]\n",
      "B: [0, 2, 4, -1, 3]\n",
      "B: [0, 2, 4, 5, 3]\n",
      "2nd approach\n",
      "B: [1, 0, 0, 0, 0]\n",
      "B: [1, 1, 0, 0, 0]\n",
      "B: [1, 1, 0, 0, 1]\n",
      "B: [1, 1, 1, 0, 1]\n",
      "B: [1, 1, 1, 1, 1]\n"
     ]
    },
    {
     "data": {
      "text/plain": [
       "5"
      ]
     },
     "execution_count": 66,
     "metadata": {},
     "output_type": "execute_result"
    }
   ],
   "source": [
    "def frogRiverOneSolution(X, A):\n",
    "    B = [-1] * X\n",
    "    print(B)\n",
    "    for i in range(0,len(A)):\n",
    "        if(A[i]<= X and B[A[i] - 1]==-1): # check if vec B was visited\n",
    "            B[A[i]-1] = i\n",
    "            print(\"B:\",B)\n",
    "    m = 0 # get max value\n",
    "    for i in range(0,len(B)):\n",
    "        if B[i] == -1: # we have a gap\n",
    "            return -1\n",
    "        m = max(m,B[i])\n",
    "    return m\n",
    "frogRiverOneSolution(5,[1,1,2,5,3,4,3])\n",
    "print(\"2nd approach\")\n",
    "# 2nd approach\n",
    "\n",
    "def frogRiverOneSolution2(X, A):\n",
    "    B = [0] * X\n",
    "    s = 0\n",
    "    for i in range(0,len(A)):\n",
    "        if(A[i]<= X and B[A[i] - 1]==0): # check if vec B was visited\n",
    "            s +=1\n",
    "            B[A[i]-1] = 1\n",
    "            print(\"B:\",B)\n",
    "        if s==X:\n",
    "            return i\n",
    "    return -1\n",
    "frogRiverOneSolution2(5,[1,1,2,5,3,4,3])\n"
   ]
  },
  {
   "cell_type": "markdown",
   "id": "confused-stadium",
   "metadata": {},
   "source": [
    "# <b> Max Counters\n",
    "- It is given an array of nr. A = [3,4,4,6,1,4,4] and N = 5, which is the numbers that we should count.\n",
    "- in this case we count from 1-5, but in the array it exists the nr '6' which means we have to equalize all nr counting.\n",
    "- Count the nr of accurences in the array.\n",
    "- Func. should return the number of counters:\n",
    "    - 1 = 3\n",
    "    - 2 = 2\n",
    "    - 3 = 2\n",
    "    - 4 = 4\n",
    "    - 5 = 2   "
   ]
  },
  {
   "cell_type": "code",
   "execution_count": null,
   "id": "authentic-bulgarian",
   "metadata": {},
   "outputs": [],
   "source": []
  },
  {
   "cell_type": "code",
   "execution_count": null,
   "id": "processed-fruit",
   "metadata": {},
   "outputs": [],
   "source": []
  },
  {
   "cell_type": "code",
   "execution_count": null,
   "id": "composite-oakland",
   "metadata": {},
   "outputs": [],
   "source": []
  },
  {
   "cell_type": "code",
   "execution_count": null,
   "id": "interested-bangladesh",
   "metadata": {},
   "outputs": [],
   "source": []
  },
  {
   "cell_type": "code",
   "execution_count": null,
   "id": "driving-fifty",
   "metadata": {},
   "outputs": [],
   "source": []
  },
  {
   "cell_type": "code",
   "execution_count": null,
   "id": "acute-literature",
   "metadata": {},
   "outputs": [],
   "source": []
  },
  {
   "cell_type": "code",
   "execution_count": null,
   "id": "israeli-rebate",
   "metadata": {},
   "outputs": [],
   "source": []
  }
 ],
 "metadata": {
  "kernelspec": {
   "display_name": "Python 3",
   "language": "python",
   "name": "python3"
  },
  "language_info": {
   "codemirror_mode": {
    "name": "ipython",
    "version": 3
   },
   "file_extension": ".py",
   "mimetype": "text/x-python",
   "name": "python",
   "nbconvert_exporter": "python",
   "pygments_lexer": "ipython3",
   "version": "3.8.8"
  }
 },
 "nbformat": 4,
 "nbformat_minor": 5
}
