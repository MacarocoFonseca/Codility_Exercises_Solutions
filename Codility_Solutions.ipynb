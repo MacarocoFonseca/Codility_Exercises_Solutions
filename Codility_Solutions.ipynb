{
 "cells": [
  {
   "cell_type": "markdown",
   "id": "moderate-maker",
   "metadata": {},
   "source": [
    "# <b> Binary Gap\n",
    "- maximal sequence of consecutive zeros\n",
    "- 1001 has 2 zeros gap\n",
    "- 1111, 100000 and 0001( but this case will be solved) have NO GAP!\n",
    "\n",
    "#####  Solution Algo.\n",
    "- 10001001000001\n",
    "- Read the sequence\n",
    "- Increment a counter var. for each zero digit\n",
    "- Reset my count every time I reach a \"1\" digit\n",
    "- Compare zero counter with the current max val."
   ]
  },
  {
   "cell_type": "code",
   "execution_count": 12,
   "id": "veterinary-evanescence",
   "metadata": {},
   "outputs": [
    {
     "name": "stdout",
     "output_type": "stream",
     "text": [
      "100111000100000\n",
      "maxb =  0\n",
      "b =  1\n",
      "b =  2\n",
      "maxb =  2\n",
      "maxb =  2\n",
      "maxb =  2\n",
      "b =  1\n",
      "b =  2\n",
      "b =  3\n",
      "maxb =  3\n",
      "b =  1\n",
      "b =  2\n",
      "b =  3\n",
      "b =  4\n",
      "b =  5\n"
     ]
    },
    {
     "data": {
      "text/plain": [
       "3"
      ]
     },
     "execution_count": 12,
     "metadata": {},
     "output_type": "execute_result"
    }
   ],
   "source": [
    "def binaryGapSolution(N):\n",
    "    N = bin(N)[2:]\n",
    "    print(N)\n",
    "    b = 0 \n",
    "    maxb = 0\n",
    "    for k in N:\n",
    "        if int(k)==0:\n",
    "            b+=1\n",
    "            print(\"b = \", b)\n",
    "        elif int(k)==1:\n",
    "            maxb = max(b,maxb)\n",
    "            b = 0\n",
    "            print(\"maxb = \", maxb)\n",
    "    return maxb\n",
    "binaryGapSolution(20000)    \n"
   ]
  },
  {
   "cell_type": "markdown",
   "id": "cheap-permission",
   "metadata": {},
   "source": [
    "# <b> Cyclic Rotation\n",
    "- K = 3\n",
    "- A = [3,8,9,7,6] -> [7,6,3,8,9]\n",
    "- How to tackle? \n",
    "    - nr \"6\" is in 4th position and moves to the 2nd pos. with mean it moves (4+k)%sizeA = 2"
   ]
  },
  {
   "cell_type": "code",
   "execution_count": 24,
   "id": "former-coordinate",
   "metadata": {},
   "outputs": [
    {
     "name": "stdout",
     "output_type": "stream",
     "text": [
      "[3, 8, 9, 7, 6]\n",
      "3\n",
      "[None, None, None, None, None]\n",
      "[None, None, None, 3, None]\n",
      "[None, None, None, 3, 8]\n",
      "[9, None, None, 3, 8]\n",
      "[9, 7, None, 3, 8]\n",
      "[9, 7, 6, 3, 8]\n"
     ]
    },
    {
     "data": {
      "text/plain": [
       "[9, 7, 6, 3, 8]"
      ]
     },
     "execution_count": 24,
     "metadata": {},
     "output_type": "execute_result"
    }
   ],
   "source": [
    "def cyclicRotationSolution(A,K):\n",
    "    print(A)\n",
    "    print(K)\n",
    "    vec2 = [None]*len(A)\n",
    "    print(vec2)\n",
    "    for i in range(0, len(A)):\n",
    "        vec2[(i+K)%len(A)] = A[i]\n",
    "        print(vec2)\n",
    "    return vec2\n",
    "cyclicRotationSolution([3,8,9,7,6],3)\n"
   ]
  },
  {
   "cell_type": "markdown",
   "id": "secondary-russian",
   "metadata": {},
   "source": [
    "# <b> Odd Occurrence Array \n",
    "- [9,3,9,3,9,7,9]\n",
    "- find which element occurs only one time in the array\n",
    "- 7 is the only nr\n",
    "\n",
    "- Sol: sort, test quality between consecutive elements, increment index by 2"
   ]
  },
  {
   "cell_type": "code",
   "execution_count": 27,
   "id": "distinguished-pledge",
   "metadata": {},
   "outputs": [
    {
     "name": "stdout",
     "output_type": "stream",
     "text": [
      "[9, 3, 9, 3, 9, 7, 9]\n",
      "[3, 3, 7, 9, 9, 9, 9]\n"
     ]
    },
    {
     "data": {
      "text/plain": [
       "7"
      ]
     },
     "execution_count": 27,
     "metadata": {},
     "output_type": "execute_result"
    }
   ],
   "source": [
    "def oddOccurenceSolution(A):\n",
    "    print(A)\n",
    "    A.sort()\n",
    "    print(A)\n",
    "    for i in range(0, len(A), 2):\n",
    "        if A[i] != A[i+1]:\n",
    "            return A[i]\n",
    "    \n",
    "oddOccurenceSolution([9,3,9,3,9,7,9])\n"
   ]
  },
  {
   "cell_type": "markdown",
   "id": "following-somalia",
   "metadata": {},
   "source": [
    "# <b> Frog Jump\n",
    "- it is given an array with a fixed dimention\n",
    "- It is provided the frog's initial position (X), the final position (Y) and the lenght of the jump (D)\n",
    "- Ex [ ] [ ] [ ] [ ] [ ] [ ] [ ] [ ] [ ] [ ] [ ] [ ] [ ] [ ] [ ]\n",
    "- X = 1, Y = 7, D = 2 ->  [] [X] [] [x+d] [] [2x+d] [] [Y = 3x+d] [] [] [] [] [] [] []\n"
   ]
  },
  {
   "cell_type": "code",
   "execution_count": 42,
   "id": "short-disclosure",
   "metadata": {},
   "outputs": [
    {
     "name": "stdout",
     "output_type": "stream",
     "text": [
      "3\n"
     ]
    },
    {
     "data": {
      "text/plain": [
       "4"
      ]
     },
     "execution_count": 42,
     "metadata": {},
     "output_type": "execute_result"
    }
   ],
   "source": [
    "def frogJumpSolution(X,Y,D):\n",
    "    v = (Y - X) // D # floor division, get nr of jumps\n",
    "    print(v)\n",
    "    if X+v*D > Y:\n",
    "        return v\n",
    "    else: \n",
    "        return v+1\n",
    "frogJumpSolution(1,7,2)\n"
   ]
  },
  {
   "cell_type": "markdown",
   "id": "stable-nation",
   "metadata": {},
   "source": [
    "# <b> Perm. Missing Element\n",
    "- A = [2,3,1,5]\n",
    "- unique elements!\n",
    "- Largest element value is equal to N+1 and smallest is 1\n",
    "- 5 is the largest = 4+1 = N+1. 4 is missing\n",
    "- sol. sort A = [1,2,3,5], where index 0->A[0]=1, 1->A[1]=2 ...."
   ]
  },
  {
   "cell_type": "code",
   "execution_count": 47,
   "id": "sharp-teddy",
   "metadata": {},
   "outputs": [
    {
     "name": "stdout",
     "output_type": "stream",
     "text": [
      "[1, 2, 3, 4, 5, 7]\n"
     ]
    },
    {
     "data": {
      "text/plain": [
       "6"
      ]
     },
     "execution_count": 47,
     "metadata": {},
     "output_type": "execute_result"
    }
   ],
   "source": [
    "def permMissingElementSolution(A):\n",
    "    if(len(A) == 0):\n",
    "        return 1\n",
    "    A.sort()\n",
    "    print(A)\n",
    "    for i in range(0,len(A)):\n",
    "        if A[i] != i+1:\n",
    "            return i+1\n",
    "    #return(len(A)+1)\n",
    "    \n",
    "    \n",
    "    \n",
    "permMissingElementSolution([2,3,1,5,4,7])"
   ]
  },
  {
   "cell_type": "markdown",
   "id": "spoken-income",
   "metadata": {},
   "source": [
    "# <b> TapeEquilibrium\n",
    "- We are givin an array, we have to count the arrays until a certain position. We have to calculate what is in the right from the seperator and what is in left\n",
    "- calculate the absulute diference to get the minimal value of this diference.\n",
    "- EX: A = [3,1,2,4,3], with sep = 1\n",
    "    - 3 | 1+2+4+3\n",
    "    - 3 | 10\n",
    "    - |3-10| = 7\n",
    "- with sep = 2\n",
    "    - 3+1 | 2+4+3\n",
    "    - 4 | 9\n",
    "    - |4-9| = 5\n",
    ".... guess where the seperator should be to get the smallest difference\n",
    "Solution: \n",
    "1) Sum of the array S\n",
    "2) Sum of first part of the array SL\n",
    "- SR = S - SL\n",
    "- |SL- SR| = |SL - S + SL| = |2SL - S|\n",
    "- If |SL- SR| < minDiff -> minDiff = |SL- SR|"
   ]
  },
  {
   "cell_type": "code",
   "execution_count": 50,
   "id": "vanilla-dividend",
   "metadata": {},
   "outputs": [
    {
     "name": "stdout",
     "output_type": "stream",
     "text": [
      "[3, 1, 2, 4, 3]\n",
      "13\n",
      "SL: 3\n",
      "diff:  7\n",
      "Min Diff:  7\n",
      "---------------------\n",
      "SL: 4\n",
      "diff:  5\n",
      "Min Diff:  5\n",
      "---------------------\n",
      "SL: 6\n",
      "diff:  1\n",
      "Min Diff:  1\n",
      "---------------------\n",
      "SL: 10\n",
      "diff:  7\n",
      "Min Diff:  1\n",
      "---------------------\n",
      "SL: 13\n",
      "diff:  13\n",
      "Min Diff:  1\n",
      "---------------------\n"
     ]
    },
    {
     "data": {
      "text/plain": [
       "1"
      ]
     },
     "execution_count": 50,
     "metadata": {},
     "output_type": "execute_result"
    }
   ],
   "source": [
    "def tapeEquilibriumSolution(A):\n",
    "    print(A)\n",
    "    if len(A) < 2: #empty list or with 1 val\n",
    "        return 0\n",
    "    s = sum(A)\n",
    "    print(s)\n",
    "    \n",
    "    minDiff = 2000 \n",
    "    sL = 0\n",
    "    for i in range(0, len(A)):\n",
    "        sL += A[i]\n",
    "        print(\"SL:\", sL)\n",
    "        diff = abs(2*sL - s)\n",
    "        print(\"diff: \", diff)\n",
    "        minDiff = min(minDiff, diff)\n",
    "        print(\"Min Diff: \", minDiff)\n",
    "        print(\"---------------------\")\n",
    "    return minDiff\n",
    "\n",
    "tapeEquilibriumSolution([3,1,2,4,3])   "
   ]
  },
  {
   "cell_type": "markdown",
   "id": "conservative-confidentiality",
   "metadata": {},
   "source": [
    "# <b> Frog River One\n",
    "- Frog wants to get from position 0 to positon X (the rock)\n",
    "- It is given an array where the index represents the seconds and the value of the array represents the position where it is going to fall\n",
    "- A[time] = position:\n",
    "    - A[0]=1, A[1]=1, A[2]=2, A[3]=5, A[4]=3, A[5]=4, A[6]=3\n",
    "- The goal is to find the earliest time when the frog can jump to the other side of the river\n",
    "- If there is no no leaves to fill all the positions, our function should retrieve -1.\n",
    "- Sol: We should switch the index for with the position inside the array:\n",
    "    - A[time] = pos. --> B[pos.] = time\n",
    "    - A = 1(time=0), 1(1), 2(2), 5(3), 3(4), 4(5) , 3(6)\n",
    "    - B = 0, 1, 2, 3, 4, 5, 3 (-1 element than A)"
   ]
  },
  {
   "cell_type": "code",
   "execution_count": 66,
   "id": "fundamental-brazil",
   "metadata": {},
   "outputs": [
    {
     "name": "stdout",
     "output_type": "stream",
     "text": [
      "[-1, -1, -1, -1, -1]\n",
      "B: [0, -1, -1, -1, -1]\n",
      "B: [0, 2, -1, -1, -1]\n",
      "B: [0, 2, -1, -1, 3]\n",
      "B: [0, 2, 4, -1, 3]\n",
      "B: [0, 2, 4, 5, 3]\n",
      "2nd approach\n",
      "B: [1, 0, 0, 0, 0]\n",
      "B: [1, 1, 0, 0, 0]\n",
      "B: [1, 1, 0, 0, 1]\n",
      "B: [1, 1, 1, 0, 1]\n",
      "B: [1, 1, 1, 1, 1]\n"
     ]
    },
    {
     "data": {
      "text/plain": [
       "5"
      ]
     },
     "execution_count": 66,
     "metadata": {},
     "output_type": "execute_result"
    }
   ],
   "source": [
    "def frogRiverOneSolution(X, A):\n",
    "    B = [-1] * X\n",
    "    print(B)\n",
    "    for i in range(0,len(A)):\n",
    "        if(A[i]<= X and B[A[i] - 1]==-1): # check if vec B was visited\n",
    "            B[A[i]-1] = i\n",
    "            print(\"B:\",B)\n",
    "    m = 0 # get max value\n",
    "    for i in range(0,len(B)):\n",
    "        if B[i] == -1: # we have a gap\n",
    "            return -1\n",
    "        m = max(m,B[i])\n",
    "    return m\n",
    "frogRiverOneSolution(5,[1,1,2,5,3,4,3])\n",
    "print(\"2nd approach\")\n",
    "# 2nd approach\n",
    "\n",
    "def frogRiverOneSolution2(X, A):\n",
    "    B = [0] * X\n",
    "    s = 0\n",
    "    for i in range(0,len(A)):\n",
    "        if(A[i]<= X and B[A[i] - 1]==0): # check if vec B was visited\n",
    "            s +=1\n",
    "            B[A[i]-1] = 1\n",
    "            print(\"B:\",B)\n",
    "        if s==X:\n",
    "            return i\n",
    "    return -1\n",
    "frogRiverOneSolution2(5,[1,1,2,5,3,4,3])\n"
   ]
  },
  {
   "cell_type": "markdown",
   "id": "pleasant-product",
   "metadata": {},
   "source": [
    "# <b> Max Counters\n",
    "- It is given an array of nr. A = [3,4,4,6,1,4,4] and N = 5, which is the numbers that we should count.\n",
    "- in this case we count from 1-5, but in the array it exists the nr '6' which means we have to equalize all nr counting.\n",
    "- Count the nr of accurences in the array.\n",
    "- Func. should return the number of counters:\n",
    "    - 1 = 3\n",
    "    - 2 = 2\n",
    "    - 3 = 2\n",
    "    - 4 = 4\n",
    "    - 5 = 2  "
   ]
  },
  {
   "cell_type": "code",
   "execution_count": 84,
   "id": "weekly-wireless",
   "metadata": {},
   "outputs": [
    {
     "name": "stdout",
     "output_type": "stream",
     "text": [
      "[0, 0, 0, 0, 0]\n",
      "A: 3 | R: 0 | R final: 1 | m: 1\n",
      "A: 4 | R: 0 | R final: 1 | m: 1\n",
      "A: 4 | R: 1 | R final: 2 | m: 2\n",
      "B.. 2\n",
      "A: 1 | R: 0 | R final: 3 | m: 3\n",
      "A: 4 | R: 2 | R final: 3 | m: 3\n",
      "A: 4 | R: 3 | R final: 4 | m: 4\n",
      "[3, 2, 1, 4, 0]\n",
      "[3, 2, 2, 4, 0]\n",
      "[3, 2, 2, 4, 2]\n"
     ]
    }
   ],
   "source": [
    "# N is the size of the array to do the sums\n",
    "def maxCounterSolution(N, A):\n",
    "    R = [0] * N\n",
    "    print(R)\n",
    "    b = 0\n",
    "    m = 0 #maximum\n",
    "    \n",
    "    for i in range(0, len(A)):\n",
    "        if A[i]<=N:\n",
    "            print(\"A:\", A[i], end=' ')\n",
    "            print(\"| R:\", R[A[i] -1] , end=' ') \n",
    "            \n",
    "            R[A[i] - 1] = max(b, R[A[i] - 1]) + 1\n",
    "            print(\"| R final:\",R[A[i] -1], end=' ')\n",
    "            \n",
    "            m = max(m,R[A[i] - 1])\n",
    "            print(\"| m:\", m)\n",
    "        else:\n",
    "            b = m\n",
    "            print(\"B..\", b)\n",
    "    for i in range(0,len(R)):\n",
    "        if(R[i]<b):\n",
    "            R[i] = b\n",
    "            print(R)\n",
    "          \n",
    "                   \n",
    "maxCounterSolution(5,[3,4,4,6,1,4,4])"
   ]
  },
  {
   "cell_type": "markdown",
   "id": "alien-curve",
   "metadata": {},
   "source": [
    "# <b> Smallest Positive Missing Integer\n",
    "- It is given an array of nr. A = [1,3,6,4,1,2], discover the smallest integer missing value \n",
    "- Solution:\n",
    "    - Sort array\n",
    "    - Compare the present value with the next one, if they are diferent from +1 difference between each other.\n",
    "    - 3 things to take into account. \n",
    "        - if array is all negative, the missing integer should be the highest.\n",
    "        - if we have [1,2,3,4] the smallest missing is 5\n",
    "        - if we have [3,4,5,6] the smallest missing is 1."
   ]
  },
  {
   "cell_type": "code",
   "execution_count": 115,
   "id": "standard-piece",
   "metadata": {},
   "outputs": [
    {
     "name": "stdout",
     "output_type": "stream",
     "text": [
      "A: [1, 1, 2, 3, 4, 6]\n",
      "A[i]= 1; A[i]= 1; A[i]= 2; A[i]= 3; A[i]= 4; A[i] 4\n"
     ]
    },
    {
     "data": {
      "text/plain": [
       "5"
      ]
     },
     "execution_count": 115,
     "metadata": {},
     "output_type": "execute_result"
    }
   ],
   "source": [
    "def smallPosMissIntSolution(A):\n",
    "    A.sort()\n",
    "    print(\"A:\",A)\n",
    "    if A[len(A)-1] <=0: # if the elements are below 0, 1 is the smallest missing int.\n",
    "        return 1\n",
    "    # for the second edge case, where I scan the hole array to check if exists nr 1.\n",
    "    iso = False\n",
    "    for i in range(0,len(A)):\n",
    "        if A[i] == 1:\n",
    "            iso = True\n",
    "        if iso==False:\n",
    "            return 1\n",
    "    \n",
    "    for i in range(0, len(A)-1):\n",
    "        print(\"A[i]=\", A[i], end=\"; \")\n",
    "        if A[i]>0 and (A[i+1]-A[i]) > 1: # ex: 3-1, I have to retrieve 2\n",
    "            print(\"A[i]\", A[i])\n",
    "            return A[i] + 1\n",
    "    return A[len(A)-1]+1\n",
    "            \n",
    "smallPosMissIntSolution([1,3,6,4,1,2])"
   ]
  },
  {
   "cell_type": "markdown",
   "id": "average-exhibit",
   "metadata": {},
   "source": [
    "# <b> Permutation Array Check\n",
    "- It is given an array A = [4,1,3,2]\n",
    "- A permutation is a sequence containing each element from 1 to N once\n",
    "- If it is not a permutation return 0\n",
    "- Sol. sort the array and check the relationship between the array and the index!"
   ]
  },
  {
   "cell_type": "code",
   "execution_count": 113,
   "id": "gentle-cooler",
   "metadata": {},
   "outputs": [
    {
     "name": "stdout",
     "output_type": "stream",
     "text": [
      "A: [1, 2, 3, 4]\n"
     ]
    },
    {
     "data": {
      "text/plain": [
       "1"
      ]
     },
     "execution_count": 113,
     "metadata": {},
     "output_type": "execute_result"
    }
   ],
   "source": [
    "def permArrCheckSolution(A):\n",
    "    A.sort()\n",
    "    print(\"A:\",A)\n",
    "    flag = 0\n",
    "    for i in range(0, len(A)):\n",
    "        if A[i] != i+1:\n",
    "            return 0\n",
    "    \n",
    "    return 1\n",
    "            \n",
    "permArrCheckSolution([4,1,3,2])"
   ]
  },
  {
   "cell_type": "markdown",
   "id": "intense-stress",
   "metadata": {},
   "source": [
    "# <b> Count Divisibles \n",
    "- Write a function:\n",
    "\n",
    "    - def solution(A, B, K) that, given three integers A, B and K, returns the number of integers within the range [A..B] that are divisible by K, i.e.:\n",
    "{ i : A ≤ i ≤ B, i mod K = 0 }\n",
    "\n",
    "    - For example, for A = 6, B = 11 and K = 2, your function should return 3, because there are three numbers divisible by 2 within the range [6..11], namely 6, 8 and 10.\n",
    "\n",
    "- Write an efficient algorithm for the following assumptions:\n",
    "    - A and B are integers within the range [0..2,000,000,000];\n",
    "    - K is an integer within the range [1..2,000,000,000];\n",
    "    - A ≤ B.\n",
    "    \n",
    "- Solution: A=0, B=10, K=2\n",
    "    - we will have 0,2,4,6,8,10 divisible\n",
    "    - B/K + 1 = solution of nr of divisible nr.\n",
    "    - n * k >=B\n",
    "    - for nr between A and B divisibles (B/K) - (A/K)\n",
    "    \n"
   ]
  },
  {
   "cell_type": "code",
   "execution_count": 135,
   "id": "subsequent-banking",
   "metadata": {},
   "outputs": [
    {
     "name": "stdout",
     "output_type": "stream",
     "text": [
      "5\n",
      "0\n",
      "6\n"
     ]
    },
    {
     "data": {
      "text/plain": [
       "6"
      ]
     },
     "execution_count": 135,
     "metadata": {},
     "output_type": "execute_result"
    }
   ],
   "source": [
    "def countDivisiblesSolution(A,B,K):\n",
    "    c = int(B/K) - int(A/K) # b/k need to be as integers, represent the nr. of divibles between 0 and B \n",
    "    print(c)\n",
    "    if A%K == 0: # edge case\n",
    "        print(A%K)\n",
    "        c += 1\n",
    "        print(c)\n",
    "    return c\n",
    "    pass\n",
    "            \n",
    "countDivisiblesSolution(0,10,2)"
   ]
  },
  {
   "cell_type": "markdown",
   "id": "fixed-despite",
   "metadata": {},
   "source": [
    "# <b>  GenomicRangeQuery\n",
    "- A, C, G and T, which correspond to the types of successive nucleotides in the sequence. Each nucleotide has an impact factor, which is an integer. Nucleotides of types A, C, G and T have impact factors of 1, 2, 3 and 4, respectively.\n",
    "- it is provided a string of letters string s = CAGCCTA and arrays P, Q such that: \n",
    "    - P = [2,5,0]\n",
    "    - Q = [4,5,6]\n",
    "    - these are the starting positions and the end position of the slice of the string characters that we want to consider\n",
    "    - EX: index = 0,1,2,3,4,5,6\n",
    "                  C,A,G,C,C,T,A\n",
    "        - P[0]=2 and Q[0]=4 -> s[2:4]=[G,C,C] = factor 2 -> save this.\n",
    "        - P[1]=5 and Q[1]=5 -> s[5:5]=[T] = factor 4 -> save this.\n",
    "        - P[2]=0 and Q[2]=6 -> s[0:6]=[C,A,G,C,C,T,A] = factor 1 -> save this.\n",
    "    \n",
    "          \n",
    "    "
   ]
  },
  {
   "cell_type": "code",
   "execution_count": 18,
   "id": "coordinate-japan",
   "metadata": {},
   "outputs": [
    {
     "name": "stdout",
     "output_type": "stream",
     "text": [
      "['C', 'A', 'G', 'C', 'C', 'T', 'A'] [0, 0, 0, 0, 0, 0, 0] [0, 0, 0, 0, 0, 0, 0]\n",
      "A: [0, 0, 0, 0, 0, 1, 1] \n",
      "C: [0, 0, 0, 0, 0, 1, 1] \n",
      "G: [0, 0, 0, 0, 0, 1, 1] \n",
      "T: [0, 0, 0, 0, 0, 1, 1]\n",
      "[3]\n",
      "[3, 4]\n",
      "[3, 4]\n",
      "[3, 4, 1]\n"
     ]
    }
   ],
   "source": [
    "def genomicRangeQuerySolution(S,P,Q):\n",
    "    R = []\n",
    "    A = [0]*len(S)\n",
    "    C=G=T=A # cumulative counting\n",
    "    print(S,A,C)\n",
    "    \n",
    "    a=c=g=t=0 #counter for the comulative values\n",
    "    \n",
    "    for i in range(0,len(S)):\n",
    "        #print(i,S[i])\n",
    "        if S[i] == 'A':\n",
    "            a+=1\n",
    "        elif S[i] == 'C':\n",
    "            c+=1\n",
    "        elif S[i] == 'G':\n",
    "            g+=1\n",
    "        elif S[i] == 'T':\n",
    "            t+=1\n",
    "        A[i]=a\n",
    "        C[i]=c\n",
    "        G[i]=g\n",
    "        T[i]=t\n",
    "    print(\"A:\", A,\"\\nC:\",C,\"\\nG:\",G,\"\\nT:\",T)\n",
    "    \n",
    "    for i in range(0,len(P)):\n",
    "        if P[i] == Q[i]: #edge case\n",
    "            if S[P[i]] == 'A':\n",
    "                R.append(1)\n",
    "            elif S[P[i]] == 'C':\n",
    "                R.append(2)\n",
    "            elif S[P[i]] == 'G':\n",
    "                R.append(3)\n",
    "            elif S[P[i]] == 'T':\n",
    "                R.append(4)\n",
    "            print(R)\n",
    "            \n",
    "        elif A[P[i]] < A[Q[i]] or S[P[i]] == 'A':\n",
    "            R.append(1)\n",
    "        elif C[P[i]] < C[Q[i]] or S[P[i]] == 'C':\n",
    "            R.append(2)\n",
    "        elif G[P[i]] < G[Q[i]] or S[P[i]] == 'G':\n",
    "            R.append(3)\n",
    "        elif T[P[i]] < T[Q[i]] or S[P[i]] == 'T':\n",
    "            R.append(4)\n",
    "        print(R)\n",
    "        \n",
    "    \n",
    "    pass\n",
    "            \n",
    "genomicRangeQuerySolution([\"C\",\"A\",\"G\",\"C\",\"C\",\"T\",\"A\"],[2,5,0],[4,5,6])"
   ]
  },
  {
   "cell_type": "markdown",
   "id": "incorporate-saint",
   "metadata": {},
   "source": [
    "# <b> MinAvgTwoSlice\n",
    "- array A consisting of N integers is given, A = [4,2,2,5,1,5,8]\n",
    "- The goal is to find  the starting position of a slice whose avg is minimal\n",
    "- Ex: 1. do the avg from 4-2; 4-2-2; 4-2-2-5; 4-2-2-5-1....\n",
    "-     2. DO THE AVG from 2-2; 2-2-5; 2-2-5-1 ...\n",
    "- Sol:\n",
    "    - slices of 4 or more nr always contain a smaller slice with lower avg\n",
    "    - Only slice of 2 or 3 ele, need  to be tested in our algo.\n",
    "    - for each ele. we are computing the avg of ele. from 3 and 2 elements.\n",
    "    - we will compute until element last 2 elements. Test also for last 2 elements"
   ]
  },
  {
   "cell_type": "code",
   "execution_count": 10,
   "id": "designed-compression",
   "metadata": {},
   "outputs": [
    {
     "name": "stdout",
     "output_type": "stream",
     "text": [
      "16\n",
      "v1 2.6666666666666665 v2 3.0\n",
      "mn: 2.6666666666666665 mi: 0\n",
      "v1 3.0 v2 2.0\n",
      "v1 2.6666666666666665 v2 3.5\n",
      "mn: 2.6666666666666665 mi: 2\n",
      "v1 3.6666666666666665 v2 3.0\n",
      "mn: 3.0 mi: 3\n",
      "v1 4.666666666666667 v2 3.0\n"
     ]
    },
    {
     "data": {
      "text/plain": [
       "3"
      ]
     },
     "execution_count": 10,
     "metadata": {},
     "output_type": "execute_result"
    }
   ],
   "source": [
    "def minAvgTwoSliceSolution(A):\n",
    "    mn = max(A)*2 # just to have a high value for start\n",
    "    mi = 0 # index of current slice\n",
    "    print(mn)\n",
    "    \n",
    "    for i in range(0, len(A)-2):\n",
    "        v1 = (A[i]+A[i+1]+A[i+2]) / 3\n",
    "        v2 = (A[i]+A[i+1]) / 2\n",
    "        print(\"v1\",v1,\"v2\",v2)\n",
    "        if mn > v1 or mn < v2: # replace the max. with the new lowest val.\n",
    "            mn = min(v1,v2)\n",
    "            mi = i # will hold the index where the lowest avg nr beggins\n",
    "            print(\"mn:\",mn,\"mi:\", mi)\n",
    "            \n",
    "    if mn > (A[-1] + A[-2])/2: # test the last two elements \n",
    "        return len(A)-2\n",
    "    return mi\n",
    "    \n",
    "    pass\n",
    "            \n",
    "minAvgTwoSliceSolution([4,2,2,5,1,5,8])"
   ]
  },
  {
   "cell_type": "markdown",
   "id": "norwegian-rebecca",
   "metadata": {},
   "source": [
    "# <b> PassingCars\n",
    "- A non-empty array A consisting of N integers is given. The consecutive elements of array A represent consecutive cars on a road.\n",
    "- The array consists of 0 and 1s, and these nr represents cars moving in diferent directions. \n",
    "- 0 = East, 1=West\n",
    "- Count the nr of crossing cars.\n",
    "- A = [0,1,0,1,1] we have 5 crossing cars.\n",
    "- Sol: With 1 for loop, we can scan the elements  of the array starting ele. and then we are counting the cars going east and keep this nr in a var. Every time we meet a car going west we know it will cross the cars that we've already counted going East.\n",
    "    - sE(sumEast) = 1,1,2,2,2\n",
    "    - s = 0,1,1,3,5"
   ]
  },
  {
   "cell_type": "code",
   "execution_count": 13,
   "id": "soviet-zambia",
   "metadata": {},
   "outputs": [
    {
     "name": "stdout",
     "output_type": "stream",
     "text": [
      "sE 1 s 0\n",
      "sE 1 s 1\n",
      "sE 2 s 1\n",
      "sE 2 s 3\n",
      "sE 2 s 5\n"
     ]
    },
    {
     "data": {
      "text/plain": [
       "5"
      ]
     },
     "execution_count": 13,
     "metadata": {},
     "output_type": "execute_result"
    }
   ],
   "source": [
    "def passingCarsSolution(A):\n",
    "    sE = 0\n",
    "    s = 0\n",
    "    for i in range(0,len(A)):\n",
    "        if A[i]==0:\n",
    "            sE += 1\n",
    "        else:\n",
    "            s +=sE\n",
    "        print(\"sE\",sE,\"s\",s)\n",
    "    if s > 100000000: # required by the description\n",
    "        return -1\n",
    "    else:\n",
    "        return s\n",
    "    \n",
    "    pass\n",
    "            \n",
    "passingCarsSolution([0,1,0,1,1])"
   ]
  },
  {
   "cell_type": "markdown",
   "id": "retained-dating",
   "metadata": {},
   "source": [
    "# <b> Distinct\n",
    "- A = [2,1,1,2,3,1] check each element in the array and see if they are unique.\n",
    "- sort the array, check if the present element is = to the next one, if not we increment 1 th counter."
   ]
  },
  {
   "cell_type": "code",
   "execution_count": 18,
   "id": "current-transaction",
   "metadata": {},
   "outputs": [
    {
     "data": {
      "text/plain": [
       "3"
      ]
     },
     "execution_count": 18,
     "metadata": {},
     "output_type": "execute_result"
    }
   ],
   "source": [
    "def distinctSolution(A):\n",
    "    if len(A) == 0:\n",
    "        return 0\n",
    "    A.sort()\n",
    "    c = 1\n",
    "    for i in range(1, len(A)):\n",
    "        if A[i] != A[i-1]:\n",
    "            c+=1\n",
    "    return c\n",
    "    \n",
    "    pass\n",
    "            \n",
    "#distinctSolution([2,1,1,2,3,1])\n",
    "\n",
    "# or 2nd approach \n",
    "\n",
    "def distinctSolution2(A):\n",
    "    A = set(A)\n",
    "    return(len(A))\n",
    "       \n",
    "    pass\n",
    "            \n",
    "distinctSolution2([2,1,1,2,3,1])"
   ]
  },
  {
   "cell_type": "markdown",
   "id": "electric-yemen",
   "metadata": {},
   "source": [
    "# <b> MaxProductOfThree\n",
    "- A = [-3,1,2,-2,5,6], find the maximal product of any triplet or any three elements.\n",
    "- Sol.\n",
    "    - sort A,\n",
    "    - calcultate the prodcut of the 3 biggest values\n",
    "    - calculete the product of the last 2 values (because they could be negative)"
   ]
  },
  {
   "cell_type": "code",
   "execution_count": 24,
   "id": "comic-stretch",
   "metadata": {},
   "outputs": [
    {
     "name": "stdout",
     "output_type": "stream",
     "text": [
      "[-3, -2, 1, 2, 5, 6]\n"
     ]
    },
    {
     "data": {
      "text/plain": [
       "60"
      ]
     },
     "execution_count": 24,
     "metadata": {},
     "output_type": "execute_result"
    }
   ],
   "source": [
    "def maxProdThreeSolution(A):\n",
    "    A.sort()\n",
    "    print(A)\n",
    "    N = len(A)\n",
    "    \n",
    "    P1 = A[N-1] * A[0] * A[1]\n",
    "    P2 = A[N-1] * A[N-2] * A[N-3]\n",
    "    return max(P1,P2)\n",
    "\n",
    "    pass\n",
    "            \n",
    "maxProdThreeSolution([-3,1,2,-2,5,6])"
   ]
  },
  {
   "cell_type": "code",
   "execution_count": null,
   "id": "artistic-breath",
   "metadata": {},
   "outputs": [],
   "source": []
  },
  {
   "cell_type": "code",
   "execution_count": null,
   "id": "graphic-auditor",
   "metadata": {},
   "outputs": [],
   "source": []
  },
  {
   "cell_type": "code",
   "execution_count": null,
   "id": "synthetic-contrast",
   "metadata": {},
   "outputs": [],
   "source": []
  },
  {
   "cell_type": "code",
   "execution_count": null,
   "id": "amber-appraisal",
   "metadata": {},
   "outputs": [],
   "source": []
  },
  {
   "cell_type": "code",
   "execution_count": null,
   "id": "critical-island",
   "metadata": {},
   "outputs": [],
   "source": []
  }
 ],
 "metadata": {
  "kernelspec": {
   "display_name": "Python 3",
   "language": "python",
   "name": "python3"
  },
  "language_info": {
   "codemirror_mode": {
    "name": "ipython",
    "version": 3
   },
   "file_extension": ".py",
   "mimetype": "text/x-python",
   "name": "python",
   "nbconvert_exporter": "python",
   "pygments_lexer": "ipython3",
   "version": "3.8.8"
  }
 },
 "nbformat": 4,
 "nbformat_minor": 5
}
